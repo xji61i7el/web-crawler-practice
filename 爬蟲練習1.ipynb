{
 "cells": [
  {
   "cell_type": "code",
   "execution_count": 5,
   "id": "3a009bd0",
   "metadata": {
    "scrolled": true
   },
   "outputs": [
    {
     "name": "stdout",
     "output_type": "stream",
     "text": [
      "hello world!\n",
      "I am plusone\n",
      "------------------\n",
      "hello world!\n",
      "\n",
      "----------------\n",
      "I am plusone\n",
      "----------------\n"
     ]
    }
   ],
   "source": [
    "with open('myTxtFIle.txt', 'r') as f:\n",
    "    data = f.read()\n",
    "    print(data)\n",
    "    print('------------------')\n",
    "\n",
    "with open('myTxtFIle.txt', 'r') as f:\n",
    "    for line in f:\n",
    "        print(line)\n",
    "        print('----------------')"
   ]
  },
  {
   "cell_type": "code",
   "execution_count": 6,
   "id": "068f06fb",
   "metadata": {},
   "outputs": [],
   "source": [
    "with open('writeSomething.txt', 'w') as f:\n",
    "    f.write('hello\\n')\n",
    "    f.write('world')"
   ]
  },
  {
   "cell_type": "code",
   "execution_count": 9,
   "id": "83decabc",
   "metadata": {},
   "outputs": [],
   "source": [
    "with open('appendSomething.txt', 'a') as f:\n",
    "    f.write('hello\\n')\n",
    "    f.write('world\\n')"
   ]
  },
  {
   "cell_type": "code",
   "execution_count": 11,
   "id": "4ba5b686",
   "metadata": {},
   "outputs": [
    {
     "name": "stdout",
     "output_type": "stream",
     "text": [
      "{\n",
      " \"height\": 182,\n",
      " \"name\": \"plusone\",\n",
      " \"weight\": 40\n",
      "}\n",
      "{'height': 182, 'name': 'plusone', 'weight': 40}\n",
      "{'height': 182, 'name': 'plusone', 'weight': 40}\n"
     ]
    }
   ],
   "source": [
    "import json\n",
    "data = {\n",
    "    'name':'plusone',\n",
    "    'height':182,\n",
    "    'weight':40\n",
    "}\n",
    "jsonstr = json.dumps(data, sort_keys=True, indent=1)\n",
    "print(jsonstr)\n",
    "\n",
    "from pprint import pprint\n",
    "data = json.loads(jsonstr)\n",
    "pprint(data)\n",
    "print(data)"
   ]
  },
  {
   "cell_type": "code",
   "execution_count": 24,
   "id": "94a4362f",
   "metadata": {},
   "outputs": [
    {
     "name": "stdout",
     "output_type": "stream",
     "text": [
      "saved\n"
     ]
    }
   ],
   "source": [
    "import requests\n",
    "payload = {\n",
    "    'q':'python2'\n",
    "}\n",
    "r = requests.get('https://www.google.com/search?', params=payload)\n",
    "r.encoding = 'utf-8'\n",
    "with open('./searchContent.html', 'w+', encoding='UTF-8') as f:\n",
    "    f.write(r.text)\n",
    "    print('saved')"
   ]
  },
  {
   "cell_type": "code",
   "execution_count": 56,
   "id": "e9265fe9",
   "metadata": {},
   "outputs": [
    {
     "name": "stdout",
     "output_type": "stream",
     "text": [
      "Download Python - Python.org\n",
      "Python 2.0\n",
      "Python2 與Python3共存-詳細圖文教學（下載與安裝、環境變數\n",
      "Python2.x 与3.x 版本区别 - 菜鸟教程\n",
      "Day-7 Python2轉3小程式 - iT 邦幫忙\n",
      "Python 2將被棄用，但PyPy會繼續支援Python 2.7\n",
      "Python2安装教程（以最终版本Python2.7.18为例） - CSDN博客\n",
      "Learn Python 2 | Codecademy\n",
      "[官解]Windows上Python2和3如何兼容？ - Python部落\n",
      "用Anaconda 完美解決Python2 和python3 共存問題\n"
     ]
    }
   ],
   "source": [
    "import requests\n",
    "from bs4 import BeautifulSoup\n",
    "r = requests.get('https://www.google.com/search?q=python2')\n",
    "soup = BeautifulSoup(r.text, 'lxml')\n",
    "tags = soup.find_all('div', class_ = \"BNeawe vvjwJb AP7Wnd\")\n",
    "for tag in tags:\n",
    "    print(tag.text)"
   ]
  },
  {
   "cell_type": "code",
   "execution_count": 71,
   "id": "85372ee8",
   "metadata": {},
   "outputs": [
    {
     "name": "stdout",
     "output_type": "stream",
     "text": [
      "https://www.google.com/url?q=https://www.python.org/downloads/&sa=U&ved=2ahUKEwipmrTVq6j5AhXQd94KHV6-DZAQFnoECAkQAg&usg=AOvVaw1SLcspJ5jrakaIi3XrUrf-\n"
     ]
    }
   ],
   "source": [
    "a_tag = soup.find('div', class_='egMi0 kCrYT')\n",
    "a_tag.text\n",
    "href = a_tag.find('a')['href']\n",
    "\n",
    "googleUrl = 'https://www.google.com'\n",
    "print(googleUrl + href)"
   ]
  },
  {
   "cell_type": "code",
   "execution_count": 68,
   "id": "a7bad0fe",
   "metadata": {},
   "outputs": [
    {
     "name": "stdout",
     "output_type": "stream",
     "text": [
      "title Download Python - Python.orgwww.python.org › downloads\n",
      "href /url?q=https://www.python.org/downloads/&sa=U&ved=2ahUKEwipmrTVq6j5AhXQd94KHV6-DZAQFnoECAkQAg&usg=AOvVaw1SLcspJ5jrakaIi3XrUrf-\n",
      "saved\n",
      "title Python 2.0www.python.org › download › releases\n",
      "href /url?q=https://www.python.org/download/releases/2.0/&sa=U&ved=2ahUKEwipmrTVq6j5AhXQd94KHV6-DZAQFnoECAgQAg&usg=AOvVaw3rFmni8gBu7tuijlU6WZwE\n",
      "saved\n",
      "title Python2 與Python3共存-詳細圖文教學（下載與安裝、環境變數shin91723.medium.com › python2-與python3共存-詳細圖文教學-下載與...\n",
      "href /url?q=https://shin91723.medium.com/python2-%25E8%2588%2587python3%25E5%2585%25B1%25E5%25AD%2598-%25E8%25A9%25B3%25E7%25B4%25B0%25E5%259C%2596%25E6%2596%2587%25E6%2595%2599%25E5%25AD%25B8-%25E4%25B8%258B%25E8%25BC%2589%25E8%2588%2587%25E5%25AE%2589%25E8%25A3%259D-%25E7%2592%25B0%25E5%25A2%2583%25E8%25AE%258A%25E6%2595%25B8-%25E5%259F%25BA%25E6%259C%25AC%25E8%25A8%25AD%25E5%25AE%259A%25E8%25AA%25BF%25E6%2595%25B4-%25E7%2589%2588%25E6%259C%25AC%25E5%2588%2587%25E6%258F%259B-b25402fcff3c&sa=U&ved=2ahUKEwipmrTVq6j5AhXQd94KHV6-DZAQFnoECAoQAg&usg=AOvVaw0pnrmmbEhUMo8KkSqoP4dV\n",
      "saved\n",
      "title Python2.x 与3.x 版本区别 - 菜鸟教程www.runoob.com › python › python-2x-3x\n",
      "href /url?q=https://www.runoob.com/python/python-2x-3x.html&sa=U&ved=2ahUKEwipmrTVq6j5AhXQd94KHV6-DZAQFnoECAAQAg&usg=AOvVaw2WIz_072udjz_xm1vyEsqh\n",
      "saved\n",
      "title Day-7 Python2轉3小程式 - iT 邦幫忙ithelp.ithome.com.tw › articles\n",
      "href /url?q=https://ithelp.ithome.com.tw/articles/10204181&sa=U&ved=2ahUKEwipmrTVq6j5AhXQd94KHV6-DZAQFnoECAUQAg&usg=AOvVaw10CLwqL84oebfnQzDTLDgm\n",
      "saved\n",
      "title Python 2將被棄用，但PyPy會繼續支援Python 2.7www.ithome.com.tw › news\n",
      "href /url?q=https://www.ithome.com.tw/news/132442&sa=U&ved=2ahUKEwipmrTVq6j5AhXQd94KHV6-DZAQFnoECAYQAg&usg=AOvVaw1-qhajfxBI_yGyxtEV-y3-\n",
      "saved\n",
      "title meta-python2 - Layer enabling legacy python2 support after EOLgit.openembedded.org › meta-python2\n",
      "href /url?q=https://git.openembedded.org/meta-python2&sa=U&ved=2ahUKEwipmrTVq6j5AhXQd94KHV6-DZAQFnoECAQQAg&usg=AOvVaw0dA8oc5gQaFZlR9uEl9GrU\n",
      "saved\n",
      "title Python2安装教程（以最终版本Python2.7.18为例） - CSDN博客blog.csdn.net › weixin_45656790 › article › details\n",
      "href /url?q=https://blog.csdn.net/weixin_45656790/article/details/109638642&sa=U&ved=2ahUKEwipmrTVq6j5AhXQd94KHV6-DZAQFnoECAIQAg&usg=AOvVaw3dEIYOG6JblhQra7TpvUOe\n",
      "saved\n",
      "title Learn Python 2 | Codecademywww.codecademy.com › learn › learn-python\n",
      "href /url?q=https://www.codecademy.com/learn/learn-python&sa=U&ved=2ahUKEwipmrTVq6j5AhXQd94KHV6-DZAQFnoECAMQAg&usg=AOvVaw09JxTzaun9v3LXlnZBGIy8\n"
     ]
    },
    {
     "ename": "OSError",
     "evalue": "[Errno 22] Invalid argument: 'Learn Python 2 | Codecademywww.codecademy.com › learn › learn-python.html'",
     "output_type": "error",
     "traceback": [
      "\u001b[1;31m---------------------------------------------------------------------------\u001b[0m",
      "\u001b[1;31mOSError\u001b[0m                                   Traceback (most recent call last)",
      "Input \u001b[1;32mIn [68]\u001b[0m, in \u001b[0;36m<cell line: 9>\u001b[1;34m()\u001b[0m\n\u001b[0;32m     12\u001b[0m contentUrl \u001b[38;5;241m=\u001b[39m googleUrl \u001b[38;5;241m+\u001b[39m a[\u001b[38;5;124m'\u001b[39m\u001b[38;5;124mhref\u001b[39m\u001b[38;5;124m'\u001b[39m]\n\u001b[0;32m     13\u001b[0m r \u001b[38;5;241m=\u001b[39m requests\u001b[38;5;241m.\u001b[39mget(contentUrl)\n\u001b[1;32m---> 14\u001b[0m \u001b[38;5;28;01mwith\u001b[39;00m \u001b[38;5;28;43mopen\u001b[39;49m\u001b[43m(\u001b[49m\u001b[43ma\u001b[49m\u001b[38;5;241;43m.\u001b[39;49m\u001b[43mtext\u001b[49m\u001b[43m \u001b[49m\u001b[38;5;241;43m+\u001b[39;49m\u001b[43m \u001b[49m\u001b[38;5;124;43m'\u001b[39;49m\u001b[38;5;124;43m.html\u001b[39;49m\u001b[38;5;124;43m'\u001b[39;49m\u001b[43m,\u001b[49m\u001b[43m \u001b[49m\u001b[38;5;124;43m'\u001b[39;49m\u001b[38;5;124;43mw+\u001b[39;49m\u001b[38;5;124;43m'\u001b[39;49m\u001b[43m,\u001b[49m\u001b[43m \u001b[49m\u001b[43mencoding\u001b[49m\u001b[43m \u001b[49m\u001b[38;5;241;43m=\u001b[39;49m\u001b[43m \u001b[49m\u001b[38;5;124;43m'\u001b[39;49m\u001b[38;5;124;43mUTF-8\u001b[39;49m\u001b[38;5;124;43m'\u001b[39;49m\u001b[43m)\u001b[49m \u001b[38;5;28;01mas\u001b[39;00m f:\n\u001b[0;32m     15\u001b[0m     f\u001b[38;5;241m.\u001b[39mwrite(r\u001b[38;5;241m.\u001b[39mtext)\n\u001b[0;32m     16\u001b[0m     \u001b[38;5;28mprint\u001b[39m(\u001b[38;5;124m'\u001b[39m\u001b[38;5;124msaved\u001b[39m\u001b[38;5;124m'\u001b[39m)\n",
      "\u001b[1;31mOSError\u001b[0m: [Errno 22] Invalid argument: 'Learn Python 2 | Codecademywww.codecademy.com › learn › learn-python.html'"
     ]
    }
   ],
   "source": [
    "import requests\n",
    "from bs4 import BeautifulSoup\n",
    "r = requests.get('https://www.google.com/search?q=python2')\n",
    "soup = BeautifulSoup(r.text, 'lxml')\n",
    "googleUrl = 'https://www.google.com'\n",
    "a_list = []\n",
    "for tag in soup.find_all('div', class_='egMi0 kCrYT'):\n",
    "    a_list.append(tag.find('a'))\n",
    "for a in a_list:\n",
    "    print('title', a.text)\n",
    "    print('href', a['href'])\n",
    "    contentUrl = googleUrl + a['href']\n",
    "    r = requests.get(contentUrl)\n",
    "    with open(a.text + '.html', 'w+', encoding = 'UTF-8') as f:\n",
    "        f.write(r.text)\n",
    "        print('saved')"
   ]
  },
  {
   "cell_type": "code",
   "execution_count": null,
   "id": "d19c687b",
   "metadata": {},
   "outputs": [],
   "source": []
  }
 ],
 "metadata": {
  "kernelspec": {
   "display_name": "Python 3 (ipykernel)",
   "language": "python",
   "name": "python3"
  },
  "language_info": {
   "codemirror_mode": {
    "name": "ipython",
    "version": 3
   },
   "file_extension": ".py",
   "mimetype": "text/x-python",
   "name": "python",
   "nbconvert_exporter": "python",
   "pygments_lexer": "ipython3",
   "version": "3.9.12"
  }
 },
 "nbformat": 4,
 "nbformat_minor": 5
}
