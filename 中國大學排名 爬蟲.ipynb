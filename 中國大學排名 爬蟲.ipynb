{
 "cells": [
  {
   "cell_type": "code",
   "execution_count": 1,
   "id": "4beb99f4",
   "metadata": {},
   "outputs": [
    {
     "name": "stdout",
     "output_type": "stream",
     "text": [
      "    排名    \t　　　學校名稱　　　\t    總分    \n",
      "    1     \t　　　清华大学　　　\t  999.4   \n",
      "    2     \t　　　北京大学　　　\t  912.5   \n",
      "    3     \t　　　浙江大学　　　\t  825.3   \n",
      "    4     \t　　上海交通大学　　\t  783.3   \n",
      "    5     \t　　　复旦大学　　　\t  697.8   \n",
      "    6     \t　　　南京大学　　　\t  683.4   \n",
      "    7     \t　中国科学技术大学　\t  609.9   \n",
      "    8     \t　　华中科技大学　　\t  609.3   \n",
      "    9     \t　　　武汉大学　　　\t  607.1   \n",
      "    10    \t　　西安交通大学　　\t  570.2   \n",
      "    11    \t　　　四川大学　　　\t  561.7   \n",
      "    12    \t　　　中山大学　　　\t  559.4   \n",
      "    13    \t　哈尔滨工业大学　　\t  549.8   \n",
      "    14    \t　　　同济大学　　　\t  548.4   \n",
      "    15    \t　北京航空航天大学　\t  546.7   \n",
      "    16    \t　　　东南大学　　　\t  538.5   \n",
      "    17    \t　　北京师范大学　　\t  534.7   \n",
      "    18    \t　　北京理工大学　　\t  530.9   \n",
      "    19    \t　　中国人民大学　　\t  514.7   \n",
      "    20    \t　　　南开大学　　　\t  497.4   \n"
     ]
    }
   ],
   "source": [
    "#爬中國大學排名且印出一個二為表格\n",
    "import bs4\n",
    "import requests\n",
    "from bs4 import BeautifulSoup\n",
    "def getHTMLText(url):\n",
    "    try:\n",
    "         r = requests.get(url, timeout = 30)\n",
    "         r.raise_for_status()\n",
    "         r.encoding = r.apparent_encoding\n",
    "         return r.text\n",
    "    except:\n",
    "         return ''\n",
    "    \n",
    "def fillUnivList(ulist, html):\n",
    "    soup = BeautifulSoup(html, 'html.parser')\n",
    "    for tr in soup.find('tbody').children:\n",
    "         if isinstance(tr, bs4.element.Tag):\n",
    "             tds = tr('td')\n",
    "             ulist.append([str.strip(tds[0].string), str.strip(tds[1].a.string), str.strip(tds[4].string)])\n",
    "                \n",
    "def printUnivList(ulist, num):\n",
    "     tplt = '{0:^10}\\t{1:{3}^10}\\t{2:^10}'\n",
    "     print(tplt.format('排名', '學校名稱', '總分', chr(12288)))\n",
    "     for i in range(num):\n",
    "         u = ulist[i]\n",
    "         print(tplt.format(u[0], u[1], u[2], chr(12288)))\n",
    "\n",
    "        \n",
    "def main():\n",
    "     uinfo = []\n",
    "     url = 'https://www.shanghairanking.cn/rankings/bcur/2022'\n",
    "     html = getHTMLText(url)\n",
    "     fillUnivList(uinfo, html)\n",
    "     printUnivList(uinfo, 20)\n",
    "main()"
   ]
  },
  {
   "cell_type": "code",
   "execution_count": null,
   "id": "532d1e85",
   "metadata": {},
   "outputs": [],
   "source": []
  },
  {
   "cell_type": "code",
   "execution_count": null,
   "id": "c4b79781",
   "metadata": {},
   "outputs": [],
   "source": []
  }
 ],
 "metadata": {
  "kernelspec": {
   "display_name": "Python 3 (ipykernel)",
   "language": "python",
   "name": "python3"
  },
  "language_info": {
   "codemirror_mode": {
    "name": "ipython",
    "version": 3
   },
   "file_extension": ".py",
   "mimetype": "text/x-python",
   "name": "python",
   "nbconvert_exporter": "python",
   "pygments_lexer": "ipython3",
   "version": "3.9.12"
  }
 },
 "nbformat": 4,
 "nbformat_minor": 5
}
